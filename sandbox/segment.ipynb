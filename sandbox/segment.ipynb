{
 "cells": [
  {
   "cell_type": "code",
   "execution_count": 56,
   "id": "9c8c24d4-6cbe-45f6-be48-73b6f33129c4",
   "metadata": {},
   "outputs": [],
   "source": [
    "import bisect\n",
    "import datetime, random\n",
    "import copy\n",
    "\n",
    "from traitlets import HasTraits, List, observe\n",
    "\n",
    "\n",
    "class Segment(object):\n",
    "    def __init__(self, begin, end, label=None):\n",
    "        self.begin = begin\n",
    "        self.end = end\n",
    "        self.label = label\n",
    "\n",
    "    @property\n",
    "    def breakpoints(self):\n",
    "        return [self.begin, self.end]\n",
    "\n",
    "    @classmethod\n",
    "    def from_db(cls, idx, db_path):\n",
    "        pass\n",
    "\n",
    "    def __str__(self):\n",
    "        label = self.label if self.label else 'undefined' \n",
    "        s = \"Temporal segment\\nbegin: {begin}\\nend: {end}\\nlabel: {label}\".format(begin=self.begin,\n",
    "                                                                                  end=self.end,\n",
    "                                                                                  label=label)\n",
    "        return s\n",
    "\n",
    "\n",
    "class Segmentation(HasTraits):\n",
    "    segments = List(trait=List())\n",
    "    breakpoints = List()\n",
    "\n",
    "    def __init__(self, breakpoints=None, segments=None):\n",
    "        super(Segmentation, self).__init__()\n",
    "        self.breakpoints = breakpoints if breakpoints else []\n",
    "        self.segments = segments if segments else []\n",
    "\n",
    "    @classmethod\n",
    "    def from_datelist(cls, dates):\n",
    "        begin = min(dates)\n",
    "        end = max(dates)\n",
    "        instance = cls()\n",
    "        instance.breakpoints = [begin, end]\n",
    "        return instance\n",
    "\n",
    "    def from_db(cls, feature_id, db_path):\n",
    "        # query to retrieve segments_idx\n",
    "        segments = [Segment.from_db(idx) for idx in segments_idx]\n",
    "        breakpoints = self.compute_breakpoints(segments)\n",
    "        instance = cls(breakpoints=breakpoints, segments=segments)\n",
    "        return instance\n",
    "\n",
    "    def add_breakpoints(self, date):\n",
    "        bp = copy.deepcopy(self.breakpoints)\n",
    "        bisect.insort(bp, date)\n",
    "        self.breakpoints = bp\n",
    "\n",
    "    def remove_breakpoints(self, date):\n",
    "        bp = copy.deepcopy(self.breakpoints)\n",
    "        if date in bp:\n",
    "            bp.remove(date)\n",
    "        else:\n",
    "            ValueError('Not a valid breakpoint date')\n",
    "        self.breakpoints = bp\n",
    "\n",
    "    def update_marks(self, interface):\n",
    "        \"\"\"Given an Interface instance, update its vline attribute\"\"\"\n",
    "        pass\n",
    "\n",
    "    @staticmethod\n",
    "    def compute_breakpoints(segments):\n",
    "        \"\"\"Compute breakpoints given a list of segments\"\"\"\n",
    "        bp = []\n",
    "        for seg in segments:\n",
    "            bp += seg.breakpoints\n",
    "        return sorted(set(bp))\n",
    "\n",
    "    @observe('breakpoints')\n",
    "    def _observe_breakpoints(self, change):\n",
    "        self.segments = list(zip(self.breakpoints[:-1], self.breakpoints[1:]))\n",
    "        self.vlines = \n"
   ]
  },
  {
   "cell_type": "code",
   "execution_count": 6,
   "id": "670fdfa6-5a0c-4833-82a4-b2bf5b4a2168",
   "metadata": {},
   "outputs": [],
   "source": [
    "# Generate demo date list\n",
    "start_datetime = datetime.datetime.now()\n",
    "datetimes_list = [start_datetime]\n",
    "\n",
    "for _ in range(9):\n",
    "    delta_days = random.randint(1, 10)\n",
    "    new_datetime = datetimes_list[-1] + datetime.timedelta(days=delta_days)\n",
    "    datetimes_list.append(new_datetime)"
   ]
  },
  {
   "cell_type": "code",
   "execution_count": 39,
   "id": "0194952d-288b-4d23-b88b-e3ca8169c9ff",
   "metadata": {},
   "outputs": [
    {
     "name": "stdout",
     "output_type": "stream",
     "text": [
      "[[datetime.datetime(2024, 2, 2, 17, 47, 47, 594792), datetime.datetime(2024, 3, 28, 17, 47, 47, 594792)]]\n",
      "[[datetime.datetime(2024, 2, 2, 17, 47, 47, 594792), datetime.datetime(2024, 2, 15, 0, 0)], [datetime.datetime(2024, 2, 15, 0, 0), datetime.datetime(2024, 3, 28, 17, 47, 47, 594792)]]\n",
      "[[datetime.datetime(2024, 2, 2, 17, 47, 47, 594792), datetime.datetime(2024, 3, 28, 17, 47, 47, 594792)]]\n"
     ]
    }
   ],
   "source": [
    "seg = Segmentation.from_datelist(datetimes_list)\n",
    "print(seg.segments)\n",
    "seg.add_breakpoints(datetime.datetime(2024,2,15))\n",
    "print(seg.segments)\n",
    "seg.remove_breakpoints(datetime.datetime(2024,2,15))\n",
    "print(seg.segments)"
   ]
  },
  {
   "cell_type": "code",
   "execution_count": 37,
   "id": "a282977b-c2f2-490d-bb9e-baf8aca7b551",
   "metadata": {},
   "outputs": [],
   "source": []
  },
  {
   "cell_type": "code",
   "execution_count": 38,
   "id": "ea9c952c-9e16-4391-b35b-8d9b9a2120bf",
   "metadata": {},
   "outputs": [
    {
     "data": {
      "text/plain": [
       "[[datetime.datetime(2024, 2, 2, 17, 47, 47, 594792),\n",
       "  datetime.datetime(2024, 2, 15, 0, 0)],\n",
       " [datetime.datetime(2024, 2, 15, 0, 0),\n",
       "  datetime.datetime(2024, 3, 28, 17, 47, 47, 594792)]]"
      ]
     },
     "execution_count": 38,
     "metadata": {},
     "output_type": "execute_result"
    }
   ],
   "source": []
  },
  {
   "cell_type": "code",
   "execution_count": 58,
   "id": "14c8ef12-340d-4f6a-bc9c-7b6209f9d0ed",
   "metadata": {},
   "outputs": [
    {
     "name": "stdout",
     "output_type": "stream",
     "text": [
      "[datetime.datetime(2024, 2, 22, 17, 47, 47, 594792), datetime.datetime(2024, 2, 29, 17, 47, 47, 594792)]\n"
     ]
    }
   ],
   "source": [
    "s = Segment(begin=datetimes_list[3], end=datetimes_list[5])\n",
    "print(s.breakpoints)"
   ]
  },
  {
   "cell_type": "code",
   "execution_count": 60,
   "id": "d977c5cc-62ae-4ac8-b3de-4eae6c33524e",
   "metadata": {},
   "outputs": [
    {
     "data": {
      "text/plain": [
       "list"
      ]
     },
     "execution_count": 60,
     "metadata": {},
     "output_type": "execute_result"
    }
   ],
   "source": [
    "a = [3,2,2,4,5,1]\n",
    "type(sorted(set(a)))"
   ]
  }
 ],
 "metadata": {
  "kernelspec": {
   "display_name": "Python 3 (ipykernel)",
   "language": "python",
   "name": "python3"
  },
  "language_info": {
   "codemirror_mode": {
    "name": "ipython",
    "version": 3
   },
   "file_extension": ".py",
   "mimetype": "text/x-python",
   "name": "python",
   "nbconvert_exporter": "python",
   "pygments_lexer": "ipython3",
   "version": "3.10.12"
  }
 },
 "nbformat": 4,
 "nbformat_minor": 5
}
